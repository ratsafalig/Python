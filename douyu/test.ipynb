{
 "metadata": {
  "language_info": {
   "codemirror_mode": {
    "name": "ipython",
    "version": 3
   },
   "file_extension": ".py",
   "mimetype": "text/x-python",
   "name": "python",
   "nbconvert_exporter": "python",
   "pygments_lexer": "ipython3",
   "version": "3.7.5-candidate"
  },
  "orig_nbformat": 2,
  "kernelspec": {
   "name": "python3",
   "display_name": "Python 3.7.5 64-bit",
   "metadata": {
    "interpreter": {
     "hash": "4ce0e62306dd6a5716965d4519ada776f947e6dfc145b604b11307c10277ef29"
    }
   }
  }
 },
 "nbformat": 4,
 "nbformat_minor": 2,
 "cells": [
  {
   "cell_type": "code",
   "execution_count": 1,
   "metadata": {},
   "outputs": [
    {
     "output_type": "execute_result",
     "data": {
      "text/plain": [
       "b\"\\x00\\x00\\x01>\\x00\\x10\\x00\\x02\\x00\\x00\\x00\\x05\\x00\\x00\\x00\\x00x\\xdadP1O\\xf30\\x10\\xcd7|;\\xbf\\xe1f\\x0f\\x0e\\x04\\xdazC\\xc0\\xc0\\x02RU\\x89\\x01!\\xebj_SK\\xb1\\x1d\\xd9\\x17$T\\xf5\\x8f3!')*j\\x86\\xc8\\xef\\xdd\\xf3\\xbb\\xe7WU\\xff\\xbe\\xab\\xab\\xaa|\\xff\\xcb\\xef\\x00\\xc6[P\\xf0\\xfc\\xb2yZ\\xdf?l\\xf4\\xdb\\xeb\\xfa\\x11\\x04Xd\\x04u\\x80\\xc1YP\\xd7ry\\xbbZ\\xc9\\x95\\x80!\\xa0'P\\x90\\xb1u\\xc9\\x99=\\x06\\x98Imb\\x17\\x13(\\x00\\x01\\xceR`\\xc7\\x8e2\\xa8\\xf7\\xfaC\\x80\\xcf\\xad\\xe6\\xaf\\x9e@\\xd5\\x02R\\x8c\\xbe\\xb8\\xd6\\x8dl\\x16\\x02\\xd8y\\xca\\x8c\\xbe\\x07U\\xdf\\xd5\\xcdM\\xb3X.j\\x01\\xd9\\xc4D\\xe7\\xd4R6\\x02v\\x18\\xb2\\xf6d\\xb1+\\xe1\\x18SK\\xac\\x8b\\x99\\x140\\xd2\\xba\\xa3O\\xea\\xce\\xf0\\x1c\\x18Nx\\x8e)\\xff`\\x9d\\x19\\x13_\\xb0\\x14\\xec\\x05\\xb7\\x8d\\xc9\\xd2d\\xe0\\xb2\\xee\\\\\\xbbg\\x9aT\\xed\\x80\\xc9\\x9e\\xed\\xcf=\\x19W\\x82\\x8e\\x95\\x98\\x18NA1\\x98}L\\xfa\\xd4\\x83\\xfc}\\xac<\\x8e\\xa6\\xb9O\\x84\\xf3`<j\\x17vq\\xf211pr\\xdb\\x81]\\x0c\\xa5\\x826\\xa1\\x9do\\xceZK\\xd9LZF\\xd7\\xe9\\xb2\\xb8\\xcc\\x8f?\\x01\\x00\\x00\\xff\\xff\\xec\\x17\\x9e\\xa9\""
      ]
     },
     "metadata": {},
     "execution_count": 1
    }
   ],
   "source": [
    "b = bytes.fromhex(\"0000013e00100002000000050000000078da6450314ff33010cd377c3bbfe1660f0e04da7a43c0c0025255890121eb6a5f534bb11dd9172454f58f332127292a6a86c8efddf3bbe75755ffbeababaa7cffcbef00c65b50f0fcb2795adf3f6cf4dbebfa11045864047580c15950d77279bb5ac9958021a0275090b175c9993d0698496d621713280001ce5260c78e32a8f7fa4380cfade6af9e40d502528cbeb8d68d6c1602d879ca8cbe0755dfd5cd4db3582e6a01d9c444e7d45236027618b2f664b12be118534bac8b991430d2baa34feacef01c184e788e29ff609d19135fb014ec05b78dc9d264e0b2ee5cbb679a54ed80c99eedcf3d1957828e9598184e4131987d4cfad483fc7dac3c8ea6b94f84f3603c6a177671f231317072db815d0ca58236a19d6fce5a4bd94c5a46d7e9b2b8cc8f3f010000ffffec179ea9\")\n",
    "b"
   ]
  },
  {
   "cell_type": "code",
   "execution_count": 36,
   "metadata": {},
   "outputs": [],
   "source": [
    "import zlib"
   ]
  },
  {
   "cell_type": "code",
   "execution_count": null,
   "metadata": {},
   "outputs": [],
   "source": []
  }
 ]
}