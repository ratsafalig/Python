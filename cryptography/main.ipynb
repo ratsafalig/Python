{
 "metadata": {
  "language_info": {
   "codemirror_mode": {
    "name": "ipython",
    "version": 3
   },
   "file_extension": ".py",
   "mimetype": "text/x-python",
   "name": "python",
   "nbconvert_exporter": "python",
   "pygments_lexer": "ipython3",
   "version": "3.7.3-final"
  },
  "orig_nbformat": 2,
  "kernelspec": {
   "name": "python3",
   "display_name": "Python 3",
   "language": "python"
  }
 },
 "nbformat": 4,
 "nbformat_minor": 2,
 "cells": [
  {
   "cell_type": "code",
   "execution_count": 47,
   "metadata": {},
   "outputs": [
    {
     "output_type": "execute_result",
     "data": {
      "text/plain": [
       "b'gAAAAABgG4iF197Eo9YnRftRkg-DC5Wqw9Ez5hjev30CiBR_HOACuU2RmaNAAy73DvD88Jkarmt3yXp6v3vis8_YAyQDQZbEo_kZ9ALJWYcOBkTBJ3paSZE='"
      ]
     },
     "metadata": {},
     "execution_count": 47
    }
   ],
   "source": [
    "from cryptography.fernet import Fernet\n",
    "import struct\n",
    "key = Fernet.generate_key()\n",
    "f = Fernet(key)\n",
    "secret = b\"my deep dark secret\"\n",
    "token = f.encrypt(secret)\n",
    "token"
   ]
  },
  {
   "cell_type": "code",
   "execution_count": 48,
   "metadata": {},
   "outputs": [
    {
     "output_type": "execute_result",
     "data": {
      "text/plain": [
       "b'my deep dark secret'"
      ]
     },
     "metadata": {},
     "execution_count": 48
    }
   ],
   "source": [
    " f.decrypt(token)"
   ]
  },
  {
   "cell_type": "code",
   "execution_count": 49,
   "metadata": {},
   "outputs": [
    {
     "output_type": "execute_result",
     "data": {
      "text/plain": [
       "\"b'gAAAAABgG4iF197Eo9YnRftRkg-DC5Wqw9Ez5hjev30CiBR_HOACuU2RmaNAAy73DvD88Jkarmt3yXp6v3vis8_YAyQDQZbEo_kZ9ALJWYcOBkTBJ3paSZE='\""
      ]
     },
     "metadata": {},
     "execution_count": 49
    }
   ],
   "source": [
    "str(token)"
   ]
  },
  {
   "cell_type": "code",
   "execution_count": 50,
   "metadata": {},
   "outputs": [],
   "source": [
    "fo = open(secret, \"w+\")\n",
    "fo.write(str(token))\n",
    "fo.close()"
   ]
  },
  {
   "cell_type": "code",
   "execution_count": 51,
   "metadata": {},
   "outputs": [
    {
     "output_type": "execute_result",
     "data": {
      "text/plain": [
       "b\"b'gAAAAABgG4iF197Eo9YnRftRkg-DC5Wqw9Ez5hjev30CiBR_HOACuU2RmaNAAy73DvD88Jkarmt3yXp6v3vis8_YAyQDQZbEo_kZ9ALJWYcOBkTBJ3paSZE='\""
      ]
     },
     "metadata": {},
     "execution_count": 51
    }
   ],
   "source": [
    "fo = open(secret, \"rb\")\n",
    "data = fo.read()\n",
    "\n",
    "data"
   ]
  },
  {
   "cell_type": "code",
   "execution_count": null,
   "metadata": {},
   "outputs": [],
   "source": []
  }
 ]
}