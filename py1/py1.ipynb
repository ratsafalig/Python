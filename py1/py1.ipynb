{
 "metadata": {
  "language_info": {
   "codemirror_mode": {
    "name": "ipython",
    "version": 3
   },
   "file_extension": ".py",
   "mimetype": "text/x-python",
   "name": "python",
   "nbconvert_exporter": "python",
   "pygments_lexer": "ipython3",
   "version": "3.5.5-final"
  },
  "orig_nbformat": 2,
  "kernelspec": {
   "name": "python3",
   "display_name": "Python 3.5.5 64-bit ('crawling')",
   "metadata": {
    "interpreter": {
     "hash": "28a313813d31e2b0a94b7bd7e5f4811b8c7e909ee9d2cfaba45352f77183372b"
    }
   }
  }
 },
 "nbformat": 4,
 "nbformat_minor": 2,
 "cells": [
  {
   "cell_type": "code",
   "execution_count": null,
   "metadata": {},
   "outputs": [],
   "source": [
    "import scrapy;\n",
    "\n",
    "class MySpider(scrapy.spiders.CrawlSpider):\n",
    "    pass"
   ]
  }
 ]
}